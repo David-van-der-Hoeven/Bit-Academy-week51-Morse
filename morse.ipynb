{
 "cells": [
  {
   "cell_type": "markdown",
   "metadata": {},
   "source": [
    "<div style=\"color:gold; font-size: 50px;\">★</div> <h1> 1 Ster </h1>\n",
    "\n",
    "Lees het bestand \"noodoproep.txt\" in en print deze naar de terminal. (Tonen op een website mag natuurlijk ook!)"
   ]
  },
  {
   "cell_type": "code",
   "execution_count": 1,
   "metadata": {},
   "outputs": [
    {
     "name": "stdout",
     "output_type": "stream",
     "text": [
      "HULP NODIG 50 MAN ZIT VAST OP HET EILAND RED ONS\n"
     ]
    }
   ],
   "source": [
    "with open('nood-oproep.txt', 'r', encoding = 'utf-8') as f:\n",
    "    boodschap = f.read()\n",
    "\n",
    "print(boodschap)"
   ]
  },
  {
   "cell_type": "markdown",
   "metadata": {},
   "source": [
    "<div style=\"color:gold; font-size: 50px;\">★★</div><h2 > 2 Sterren  </h2><br><br>\n",
    "Gegeven een <a href='code.txt'>morse-woordenboek.</a> Vertaal de tekst van de eilandraad en schrijf het uit naar `output.mc`. Let op: Een `W` ('.--') kan gezien worden als `AT`('.-' en '-') als je morse-code achter elkaar plaatst, dit is ook bij andere combinaties van tekens het geval. Zorg dat er geen misverstanden kunnen plaatsvinden in de communicate.\n",
    "\n",
    "Ik begin met het lezen van het woordenboek, een dictionary lijkt me toepasselijk voor dit woordenboek. Per waarde in het ingelezen bestand wordt er een key:value pair gemaakt bestaande uit het karakter en de bijbehorende morse code."
   ]
  },
  {
   "cell_type": "code",
   "execution_count": 2,
   "metadata": {},
   "outputs": [
    {
     "name": "stdout",
     "output_type": "stream",
     "text": [
      "{'a': '.-', 'b': '-...', 'c': '-.-.', 'd': '-..', 'e': '.', 'f': '..-.', 'g': '--.', 'h': '....', 'i': '..', 'j': '.---', 'k': '-.-', 'l': '.-..', 'm': '--', 'n': '-.', 'o': '---', 'p': '.--.', 'q': '--.-', 'r': '.-.', 's': '...', 't': '-', 'u': '..-', 'v': '...-', 'w': '.--', 'x': '-..-', 'y': '-.--', 'z': '--..', ' ': '-.-.-.-', ',': '--..--', ':': '---...', ';': '-.-.-.', '.': '.-.-.-', '\"': '.-..-.', '(': '-----.', ')': '.-----', \"'\": '-.--.-', '1': '.----', '2': '..---', '3': '...--', '4': '....-', '5': '.....', '6': '-....', '7': '--...', '8': '---..', '9': '----.', '0': '-----', '\\n': ''}\n"
     ]
    }
   ],
   "source": [
    "# Inlezen van het bestand in een lijst\n",
    "with open('code.txt', 'r', encoding = 'utf-8') as g:\n",
    "    morse_list = (g.readlines())\n",
    "\n",
    "morse_dict = {}\n",
    "\n",
    "# Elke waarde in de lijst wordt van newline ontdaan en toegevoegd aan het dictionary\n",
    "for n, m in enumerate(morse_list):\n",
    "    morse_dict[morse_list[n][0].lower()] = morse_list[n][2:].replace('\\n', '').strip()\n",
    "\n",
    "print(morse_dict)"
   ]
  },
  {
   "cell_type": "markdown",
   "metadata": {},
   "source": [
    "## Omzetten in morse\n"
   ]
  },
  {
   "cell_type": "code",
   "execution_count": 3,
   "metadata": {},
   "outputs": [
    {
     "name": "stdout",
     "output_type": "stream",
     "text": [
      ".... ..- .-.. .--. -.-.-.- -. --- -.. .. --. -.-.-.- ..... ----- -.-.-.- -- .- -. -.-.-.- --.. .. - -.-.-.- ...- .- ... - -.-.-.- --- .--. -.-.-.- .... . - -.-.-.- . .. .-.. .- -. -.. -.-.-.- .-. . -.. -.-.-.- --- -. ...\n"
     ]
    }
   ],
   "source": [
    "# Er wordt een lege string gemaakt, elk karakter in de boodschap wordt in het dictionary opgezocht en de\n",
    "# bijbehorende morse-code wordt aan de morse boodschap toegevoegd.\n",
    "boodschap_morse = ''\n",
    "for n, m in enumerate(boodschap):\n",
    "    boodschap_morse += morse_dict[m.lower()] + ' '\n",
    "\n",
    "boodschap_morse = boodschap_morse.strip()\n",
    "print(boodschap_morse)"
   ]
  },
  {
   "cell_type": "markdown",
   "metadata": {},
   "source": [
    "## Schrijven naar output.mc\n",
    "Het resultaat wordt als string naar het bestand geschreven."
   ]
  },
  {
   "cell_type": "code",
   "execution_count": 4,
   "metadata": {},
   "outputs": [],
   "source": [
    "with open('output.mc', 'w') as output_file:\n",
    "    output_file.write(boodschap_morse)"
   ]
  },
  {
   "cell_type": "markdown",
   "metadata": {},
   "source": [
    "<div style=\"color:gold; font-size: 50px;\">★★★</div><h2>3 Sterren</h2>\n",
    "\n",
    "Het vaste land weet vanwege de dichte mist het signaal niet goed op te vangen. Gelukkig is er nog wel een boot binnen de reikwijdte van vuurtoren. De schipper ziet de lichtflitsen wel, maar is niet thuis in morsecode. Zorg ervoor dat je programma `output.mc` ook weer kan vertalen naar `schipper.txt`. Dan kan de schipper de noodoproep interpreteren en hulp sturen."
   ]
  },
  {
   "cell_type": "markdown",
   "metadata": {},
   "source": [
    "## Lezen\n",
    "Ik begin weer met het inlezen van het morse bestand output.mc"
   ]
  },
  {
   "cell_type": "code",
   "execution_count": 5,
   "metadata": {},
   "outputs": [
    {
     "name": "stdout",
     "output_type": "stream",
     "text": [
      ".... ..- .-.. .--. -.-.-.- -. --- -.. .. --. -.-.-.- ..... ----- -.-.-.- -- .- -. -.-.-.- --.. .. - -.-.-.- ...- .- ... - -.-.-.- --- .--. -.-.-.- .... . - -.-.-.- . .. .-.. .- -. -.. -.-.-.- .-. . -.. -.-.-.- --- -. ...\n"
     ]
    }
   ],
   "source": [
    "with open('output.mc', 'r', encoding = 'utf-8') as input_file:\n",
    "    morse_input = input_file.read()\n",
    "print(morse_input)"
   ]
  },
  {
   "cell_type": "markdown",
   "metadata": {},
   "source": [
    "## Morse -> Text dict maken\n",
    "Om de vertaalstap van "
   ]
  },
  {
   "cell_type": "code",
   "execution_count": 6,
   "metadata": {},
   "outputs": [],
   "source": [
    "morse_to_text = {}\n",
    "\n",
    "for m,l in enumerate(morse_dict):\n",
    "    morse_to_text[morse_dict[l]] = l"
   ]
  },
  {
   "cell_type": "markdown",
   "metadata": {},
   "source": [
    "Morse -> Text vertalen"
   ]
  },
  {
   "cell_type": "code",
   "execution_count": 7,
   "metadata": {},
   "outputs": [
    {
     "name": "stdout",
     "output_type": "stream",
     "text": [
      "hulp nodig 50 man zit vast op het eiland red ons\n"
     ]
    }
   ],
   "source": [
    "boodschap_vanuit_morse = ''\n",
    "\n",
    "for n in morse_input.split(' '):\n",
    "    boodschap_vanuit_morse += morse_to_text[n]\n",
    "\n",
    "print(boodschap_vanuit_morse)"
   ]
  },
  {
   "cell_type": "markdown",
   "metadata": {},
   "source": [
    "schrijven naar schipper.txt"
   ]
  },
  {
   "cell_type": "code",
   "execution_count": 8,
   "metadata": {},
   "outputs": [],
   "source": [
    "with open('schipper.txt', 'w') as outfile:\n",
    "    outfile.write(boodschap_vanuit_morse)"
   ]
  },
  {
   "cell_type": "markdown",
   "metadata": {},
   "source": [
    "<div style=\"color:gold; font-size: 50px;\">★★★★</div><h2>4 Sterren</h2>\n",
    "\n",
    "\n",
    "Het morse-woordenboek heeft zo zijn beperkingen. Er is bijvoorbeeld geen verschil gemaakt tussen hoofd- en kleine letters en er staan veel speciale karakters zoals `ü` ,`é` en `!` niet in.\n",
    "\n",
    "Als een tekst nu onbekende karakters bevat dan gebeurt er nu nog niks. Maak je programma zo dat hij mogelijk nog onbekende karakters ondersteunt en toevoegt aan zijn eigen woordenboek. Dit woordenboek schrijf je aan het einde uit naar `woordenboek_extended.txt`. Vertaal extended-nood-oproep.txt.\n",
    "\n",
    "Omdat ik niet zo'n zin heb om voor elke hoofdletter een serie tekens te bedenken, heb ik aan de functie een mogelijkheid toegevoegd om automatisch willekeurige mogelijkheden toe te wijzen."
   ]
  },
  {
   "cell_type": "code",
   "execution_count": 9,
   "metadata": {},
   "outputs": [],
   "source": [
    "import random\n",
    "assign_random = None\n",
    "\n",
    "# Functie voor het toevoegen van nieuwe karakters aan de dictionaries\n",
    "def add_new_char(new_char):\n",
    "    print(f\"Unknown character: {new_char}\")\n",
    "    global assign_random\n",
    "    \n",
    "    if assign_random != 'y':\n",
    "        assign_random = input(\"Would you like to assign random characters? y/n \\n\")\n",
    "    if assign_random == 'y':\n",
    "        new_encoding = ''.join([random.choice('-.') for n in range(random.randint(4,11))])\n",
    "    else:\n",
    "        new_encoding = input(\"Please input new morse code for this character\")\n",
    "    \n",
    "# Duplicates vermijden, als er een dubbele waarde wordt ingevoerd opnieuw uitvoeren\n",
    "    if new_encoding in morse_dict.values():\n",
    "        print(\"Already exists, please enter a different code\")\n",
    "        add_new_char(new_char)\n",
    "\n",
    "#  Als het zeker is dat er geen duplicate is, wordt het nieuwe karakter aan beide dictionaries toegevoegd\n",
    "    else:\n",
    "        morse_dict[new_char] = new_encoding\n",
    "        morse_to_text[new_encoding] = new_char\n",
    "        \n",
    "# Morse coderen met detectie van ontbrekende waardes\n",
    "def morse_encode_string(text):\n",
    "    message = ''\n",
    "    for n, m in enumerate(text):\n",
    "        try:\n",
    "            message += morse_dict[m] + ' '\n",
    "            if len(message) % 1000000 == 0:\n",
    "                print('Processing...')\n",
    "# Als het karakter niet wordt gevonden in het morse dictionary wordt de functie aangeroepen voor het\n",
    "# toevoegen van het nieuwe karakter aan beide dictionaries, na afronding hiervan wordt het nieuwe\n",
    "# karakter alsnog toegevoegd aan de uitput message.\n",
    "        except KeyError:\n",
    "            add_new_char(m)\n",
    "            message += morse_dict[m] + ' '\n",
    "        \n",
    "    return message\n",
    "\n",
    "# Functie voor Morse decoderen\n",
    "def morse_decode(morse_code):\n",
    "    message = ''\n",
    "    for m in morse_code.split():\n",
    "        message += morse_to_text[m]\n",
    "    return message"
   ]
  },
  {
   "cell_type": "markdown",
   "metadata": {},
   "source": [
    "## Nieuw bericht\n",
    "De nieuwe boodschap wordt omgezet, waarbij onbekende karakters worden gevraagd"
   ]
  },
  {
   "cell_type": "code",
   "execution_count": 10,
   "metadata": {
    "scrolled": false
   },
   "outputs": [
    {
     "name": "stdout",
     "output_type": "stream",
     "text": [
      "Unknown character: S\n",
      "Would you like to assign random characters? y/n \n",
      "y\n",
      "Already exists, please enter a different code\n",
      "Unknown character: S\n",
      "Unknown character: O\n",
      "Unknown character: A\n",
      "Unknown character: W\n",
      "Unknown character: D\n",
      "Unknown character: M\n",
      "Unknown character: Z\n",
      "Unknown character: ë\n",
      "Unknown character: R\n",
      "Unknown character: ì\n",
      "Unknown character: !\n",
      ".-...-- -.-.- .-...-- -.-.-.- ..-.- .- -. -.-.-.- .-- .. . -.-.-.- --- -. ... -.-.-.- .... --- .-. . -. -.-.-.- -.- .- -. .-.-.- -.-.-.- -----.- . -.-.-.- .-- . - . -. -.-.-.- -. .. . - -.-.-.- .-- .- - -.-.-.- . .-. -.-.-.- .. ... -.-.-.- --. . -... . ..- .-. - --..-- -.-.-.- -- .- .- .-. -.-.-.- .-- . -.-.-.- --.. .. - - . -. -.-.-.- --.. --- -. -.. . .-. -.-.-.- - . .-.. . ..-. --- --- -. .-.. .. .--- -. . -. -.-.-.- . -. -.-.-.- .. -. - . .-. -. . - .-.-.- -.-.-.- ----.--..- .- .- .-. --- -- -.-.-.- ...- .- .-.. .-.. . -. -.-.-.- .-- . -.-.-.- - . .-. ..- --. -.-.-.- --- .--. -.-.-.- -- --- .-. ... . -.-. --- -.. . .-.-.- -.-.-.- -----.- . -.-.-.- --.. .. - - . -. -.-.-.- -- . - -.-.-.- ..... ----- -.-.-.- -- .- -. -.-.-.- ...- .- ... - -.-.-.- --- .--. -.-.-.- .... . - -.-.-.- . .. .-.. .- -. -.. .-.-.- -.-.-.- ..-.. . - -.-.-.- -.. . -.-.-.- -.- . .-. ... - -.. .- --. . -. -.-.-.- -. .- -... .. .--- -.-.-.- .-- .. .-.. .-.. . -. -.-.-.- .-- . -.-.-.- .-- . . .-. -.-.-.- - . .-. ..- --. -.-.-.- -. .- .- .-. -.-.-.- --- -. --.. . -.-.-.- ..-. .- -- .. .-.. .. . ... -.-.-.- . -. -.-.-.- -.. ..- ... -.-.-.- .-- .. .-.. .-.. . -. -.-.-.- .-- . -.-.-.- --- .--. --. . .... .- .- .-.. -.. -.-.-.- .-- --- .-. -.. . -. .-.-.- -.-.-.- ----.--..- .- .- .-. -. .- .- ... - -.-.-.- -- --- . - -.-.-.- ...--..--- --- .-.-.---. -.-.-.- .... .- .- .-. -.-.-.- .... --- -. -.. .--- . -.-.-.- .-- . . .-. -.-.-.- - . -.-.-.- . - . -. -.-.-.- --. . ...- . -. -.-.-.- . -. -.-.-.- .. ... -.-.-.- -.. . -.-.-.- ...- .-. --- ..- .-- -.-.-.- ...- .- -. -.-.-.- ..-..--... ..- -... -..---.--- -. -.-.-.- -- --- .-. --. . -. -.-.-.- ..- .. - --. . .-. . -.- . -. -.. .-.-.- -.-.-.- .-...-- - ..- ..- .-. -.-.-.- ... -. . .-.. -.-.-.- .... ..- .-.. .--. .---.--...- \n"
     ]
    }
   ],
   "source": [
    "with open('extended-nood-oproep.txt', 'r', encoding = 'utf-8') as infile:\n",
    "    nieuwe_boodschap = infile.read()\n",
    "\n",
    "boodschap_in_morse = morse_encode_string(nieuwe_boodschap)\n",
    "print(boodschap_in_morse)"
   ]
  },
  {
   "cell_type": "markdown",
   "metadata": {},
   "source": [
    "## Nu met hoofdletters\n",
    "Hieronder wordt de boodschap weer terugvertaald vanuit morse naar leesbare tekst, nu met hoofdletters en andere nieuwe letters."
   ]
  },
  {
   "cell_type": "code",
   "execution_count": 11,
   "metadata": {},
   "outputs": [
    {
     "name": "stdout",
     "output_type": "stream",
     "text": [
      "SOS Aan wie ons horen kan. We weten niet wat er is gebeurt, maar we zitten zonder telefoonlijnen en internet. Daarom vallen we terug op morsecode. We zitten met 50 man vast op het eiland. Met de kerstdagen nabij willen we weer terug naar onze families en dus willen we opgehaald worden. Daarnaast moet Zoë haar hondje weer te eten geven en is de vrouw van Rubìn morgen uitgerekend. Stuur snel hulp!\n",
      "\n"
     ]
    }
   ],
   "source": [
    "boodschap_vanuit_morse = ''\n",
    "\n",
    "for n in boodschap_in_morse.split(' '):\n",
    "    boodschap_vanuit_morse += morse_to_text[n]\n",
    "\n",
    "print(boodschap_vanuit_morse)"
   ]
  },
  {
   "cell_type": "markdown",
   "metadata": {},
   "source": [
    "## Het werkt!\n",
    "\n",
    "Bonus:\n",
    "Dit werkt voor het encoderen en decoderen van berichten. Nadeel van deze methode is het gebruiken van strings voor de omzetting. Omdat strings immutable zijn, is dit een relatief trage manier; met elke loop wordt een compleet nieuwe string aangemaakt. Voor korte berichten maakt dit niet uit, het programma is vrijwel direct klaar."
   ]
  },
  {
   "cell_type": "code",
   "execution_count": 12,
   "metadata": {},
   "outputs": [
    {
     "name": "stdout",
     "output_type": "stream",
     "text": [
      "Wall time: 0 ns\n"
     ]
    },
    {
     "data": {
      "text/plain": [
       "'.-...-- -.-.- .-...-- -.-.-.- ..-.- .- -. -.-.-.- .-- .. . -.-.-.- --- -. ... -.-.-.- .... --- .-. . -. -.-.-.- -.- .- -. .-.-.- -.-.-.- -----.- . -.-.-.- .-- . - . -. -.-.-.- -. .. . - -.-.-.- .-- .- - -.-.-.- . .-. -.-.-.- .. ... -.-.-.- --. . -... . ..- .-. - --..-- -.-.-.- -- .- .- .-. -.-.-.- .-- . -.-.-.- --.. .. - - . -. -.-.-.- --.. --- -. -.. . .-. -.-.-.- - . .-.. . ..-. --- --- -. .-.. .. .--- -. . -. -.-.-.- . -. -.-.-.- .. -. - . .-. -. . - .-.-.- -.-.-.- ----.--..- .- .- .-. --- -- -.-.-.- ...- .- .-.. .-.. . -. -.-.-.- .-- . -.-.-.- - . .-. ..- --. -.-.-.- --- .--. -.-.-.- -- --- .-. ... . -.-. --- -.. . .-.-.- -.-.-.- -----.- . -.-.-.- --.. .. - - . -. -.-.-.- -- . - -.-.-.- ..... ----- -.-.-.- -- .- -. -.-.-.- ...- .- ... - -.-.-.- --- .--. -.-.-.- .... . - -.-.-.- . .. .-.. .- -. -.. .-.-.- -.-.-.- ..-.. . - -.-.-.- -.. . -.-.-.- -.- . .-. ... - -.. .- --. . -. -.-.-.- -. .- -... .. .--- -.-.-.- .-- .. .-.. .-.. . -. -.-.-.- .-- . -.-.-.- .-- . . .-. -.-.-.- - . .-. ..- --. -.-.-.- -. .- .- .-. -.-.-.- --- -. --.. . -.-.-.- ..-. .- -- .. .-.. .. . ... -.-.-.- . -. -.-.-.- -.. ..- ... -.-.-.- .-- .. .-.. .-.. . -. -.-.-.- .-- . -.-.-.- --- .--. --. . .... .- .- .-.. -.. -.-.-.- .-- --- .-. -.. . -. .-.-.- -.-.-.- ----.--..- .- .- .-. -. .- .- ... - -.-.-.- -- --- . - -.-.-.- ...--..--- --- .-.-.---. -.-.-.- .... .- .- .-. -.-.-.- .... --- -. -.. .--- . -.-.-.- .-- . . .-. -.-.-.- - . -.-.-.- . - . -. -.-.-.- --. . ...- . -. -.-.-.- . -. -.-.-.- .. ... -.-.-.- -.. . -.-.-.- ...- .-. --- ..- .-- -.-.-.- ...- .- -. -.-.-.- ..-..--... ..- -... -..---.--- -. -.-.-.- -- --- .-. --. . -. -.-.-.- ..- .. - --. . .-. . -.- . -. -.. .-.-.- -.-.-.- .-...-- - ..- ..- .-. -.-.-.- ... -. . .-.. -.-.-.- .... ..- .-.. .--. .---.--...- '"
      ]
     },
     "execution_count": 12,
     "metadata": {},
     "output_type": "execute_result"
    }
   ],
   "source": [
    "%%time\n",
    "\n",
    "morse_encode_string(nieuwe_boodschap)"
   ]
  },
  {
   "cell_type": "markdown",
   "metadata": {},
   "source": [
    "## Langere boodschap\n",
    "Maar dit gaat niet op voor langere boodschappen. Als ik een langer tekstbestand importeer zien we grote achteruitgang in performance."
   ]
  },
  {
   "cell_type": "code",
   "execution_count": 13,
   "metadata": {},
   "outputs": [
    {
     "name": "stdout",
     "output_type": "stream",
     "text": [
      "4197612\n"
     ]
    }
   ],
   "source": [
    "with open('test.txt', 'r', encoding = 'utf-8') as long_text:\n",
    "    long_string = long_text.read()\n",
    "\n",
    "print(len(long_string))"
   ]
  },
  {
   "cell_type": "markdown",
   "metadata": {},
   "source": [
    "Testen van de performance van de string manier."
   ]
  },
  {
   "cell_type": "code",
   "execution_count": 14,
   "metadata": {},
   "outputs": [
    {
     "name": "stdout",
     "output_type": "stream",
     "text": [
      "Unknown character: L\n",
      "Unknown character: N\n",
      "Unknown character: V\n",
      "Unknown character: P\n",
      "Unknown character: E\n",
      "Unknown character: U\n",
      "Unknown character: C\n",
      "Unknown character: I\n",
      "Unknown character: F\n",
      "Unknown character: Q\n",
      "Processing...\n",
      "Processing...\n",
      "Processing...\n",
      "Processing...\n",
      "Processing...\n",
      "Wall time: 17.4 s\n"
     ]
    }
   ],
   "source": [
    "%%time \n",
    "\n",
    "temp_var = morse_encode_string(long_string)\n",
    "del temp_var"
   ]
  },
  {
   "cell_type": "markdown",
   "metadata": {},
   "source": [
    "## Alternatieven\n",
    "Zelfs met een relatief korte boodschap doet de string manier er een lange tijd over. Doordat de vorige string bij elke iteratie opnieuw gekopieerd wordt en deze string steeds langer wordt neemt bij een toenemende lengte de tijdsduur proportioneel nog meer toe.\n",
    "\n",
    "Gelukkig zijn er andere datatypes die niet voor elke loop opnieuw aangemaakt hoeven te worden. Zoals bijvoorbeeld een dictionary."
   ]
  },
  {
   "cell_type": "code",
   "execution_count": 15,
   "metadata": {},
   "outputs": [],
   "source": [
    "# Om het verschil tussen de verschillende onderstaande methoden (en de string methode) te benadrukken, begin ik met het \n",
    "# verlengen van de uit het test.txt bestand ingelezen string\n",
    "\n",
    "long_long_string = long_string * 4\n",
    "del long_string\n",
    "\n",
    "#Dictionary\n",
    "def morse_encode_dict(text):\n",
    "    message = {}\n",
    "    \n",
    "    for n, m in enumerate(text):\n",
    "        try:\n",
    "            message[n] = (morse_dict[m] + ' ')\n",
    "        \n",
    "\n",
    "        except KeyError:\n",
    "            add_new_char(m)\n",
    "            message += morse_dict[m] + ' '\n",
    "    \n",
    "    return ''.join(message.values())"
   ]
  },
  {
   "cell_type": "markdown",
   "metadata": {},
   "source": [
    "## Dictionary\n",
    "Een hele verbetering, mbv een dict gaat de omzetting een stuk sneller."
   ]
  },
  {
   "cell_type": "code",
   "execution_count": 16,
   "metadata": {},
   "outputs": [
    {
     "name": "stdout",
     "output_type": "stream",
     "text": [
      "Wall time: 6.26 s\n"
     ]
    }
   ],
   "source": [
    "%%time\n",
    "\n",
    "temp_dict = morse_encode_dict(long_long_string)\n",
    "del temp_dict"
   ]
  },
  {
   "cell_type": "markdown",
   "metadata": {},
   "source": [
    "## List\n",
    "Laten we kijken wat het list resultaat is."
   ]
  },
  {
   "cell_type": "code",
   "execution_count": 17,
   "metadata": {},
   "outputs": [
    {
     "name": "stdout",
     "output_type": "stream",
     "text": [
      "Wall time: 5.66 s\n"
     ]
    }
   ],
   "source": [
    "%%time\n",
    "\n",
    "def morse_encode_list(input_string):\n",
    "    message = []\n",
    "    for n, m in enumerate(input_string):\n",
    "        try:\n",
    "            message.append(morse_dict[m] + ' ')\n",
    "        \n",
    "\n",
    "        except KeyError:\n",
    "            add_new_char(m)\n",
    "            message += morse_dict[m] + ' '\n",
    "    \n",
    "    return ''.join(message)\n",
    "\n",
    "temp_list = morse_encode_list(long_long_string)\n",
    "del temp_list"
   ]
  },
  {
   "cell_type": "markdown",
   "metadata": {},
   "source": [
    "Zelfs nog wat beter dan de dictionary."
   ]
  },
  {
   "cell_type": "markdown",
   "metadata": {},
   "source": [
    "## Zonder loop\n",
    "Door for loops te vermijden is er mogelijk ook nog een verschil op te merken."
   ]
  },
  {
   "cell_type": "code",
   "execution_count": 23,
   "metadata": {},
   "outputs": [
    {
     "name": "stdout",
     "output_type": "stream",
     "text": [
      "-.---- --- .-. . -- -.-.-.- .. .--. ... ..- -- -.-.-.- -.. --- .-.. --- .-. -.-.-.- ... .. - -.-.-.-\n",
      "Wall time: 5.25 s\n"
     ]
    }
   ],
   "source": [
    "%%time\n",
    "\n",
    "def no_loop(input_string):\n",
    "    string_list = list(input_string)\n",
    "    map_list = map((lambda m: morse_dict[m[0]] + ' '), string_list)\n",
    "    temp_map = ''.join(list(map_list))\n",
    "    del temp_map, map_list, string_list\n",
    "\n",
    "no_loop(long_long_string)"
   ]
  },
  {
   "cell_type": "markdown",
   "metadata": {},
   "source": [
    "## For loop en list\n",
    "Met behulp van de timeit module voer ik eerst voor de functie die gebruik maakt van list en for loops 10000 tests uit met een string van 10000 karakters."
   ]
  },
  {
   "cell_type": "code",
   "execution_count": 19,
   "metadata": {},
   "outputs": [
    {
     "data": {
      "text/plain": [
       "27.455910075"
      ]
     },
     "execution_count": 19,
     "metadata": {},
     "output_type": "execute_result"
    }
   ],
   "source": [
    "import timeit\n",
    "\n",
    "def morse_encode_list_short():\n",
    "    morse_encode_list(long_long_string[0:10000])\n",
    "\n",
    "timeit.timeit(stmt = morse_encode_list_short ,number= 10000)"
   ]
  },
  {
   "cell_type": "markdown",
   "metadata": {},
   "source": [
    "## Map functie\n",
    "Daarna hetzelfde voor de functie die van map gebruik maakt"
   ]
  },
  {
   "cell_type": "code",
   "execution_count": 20,
   "metadata": {},
   "outputs": [
    {
     "data": {
      "text/plain": [
       "25.212289493"
      ]
     },
     "execution_count": 20,
     "metadata": {},
     "output_type": "execute_result"
    }
   ],
   "source": [
    "def no_loop_short():\n",
    "    no_loop(long_long_string[0:10000])\n",
    "    \n",
    "timeit.timeit(stmt = no_loop_short ,number= 10000)"
   ]
  },
  {
   "cell_type": "markdown",
   "metadata": {},
   "source": [
    "## Conclusie\n",
    "Het scheelt weinig, maar de map functie wint het van de for loops."
   ]
  },
  {
   "cell_type": "markdown",
   "metadata": {},
   "source": [
    "<div align = \"top\" style=\"color:gold; font-size: 50px;\">★★★★★★★★★★★★★★★★★★★★★★★</div><h1 align= \"center\"> Winnaar </h1><br>\n",
    "<div align= \"center\">\n",
    "Geen drastisch verschil met de list, maar de map functie is iets sneller en is daarmee de winnaar!</div> <img align= \"center\" src=\"beker.jpg\" alt='Hier hoort een beker te staan'><br>\n",
    "<div align = \"bottom\" style=\"color:gold; font-size: 50px;\">★★★★★★★★★★★★★★★★★★★★★★★</div>"
   ]
  },
  {
   "cell_type": "markdown",
   "metadata": {},
   "source": [
    "## Woordenboek schrijven\n",
    "Tenslotte wordt het aangepaste woordenboek naar een json bestand geschreven"
   ]
  },
  {
   "cell_type": "code",
   "execution_count": 21,
   "metadata": {},
   "outputs": [],
   "source": [
    "import json\n",
    "\n",
    "with open('morse-woordenboek-extended.json', 'w') as outfile:\n",
    "    json.dump(morse_dict, outfile)"
   ]
  },
  {
   "cell_type": "code",
   "execution_count": null,
   "metadata": {},
   "outputs": [],
   "source": []
  }
 ],
 "metadata": {
  "kernelspec": {
   "display_name": "Python 3",
   "language": "python",
   "name": "python3"
  },
  "language_info": {
   "codemirror_mode": {
    "name": "ipython",
    "version": 3
   },
   "file_extension": ".py",
   "mimetype": "text/x-python",
   "name": "python",
   "nbconvert_exporter": "python",
   "pygments_lexer": "ipython3",
   "version": "3.8.5"
  }
 },
 "nbformat": 4,
 "nbformat_minor": 4
}
